{
  "nbformat": 4,
  "nbformat_minor": 0,
  "metadata": {
    "colab": {
      "provenance": [],
      "authorship_tag": "ABX9TyN5KPf0NPDI3x5gUTG32gnH",
      "include_colab_link": true
    },
    "kernelspec": {
      "name": "python3",
      "display_name": "Python 3"
    },
    "language_info": {
      "name": "python"
    }
  },
  "cells": [
    {
      "cell_type": "markdown",
      "metadata": {
        "id": "view-in-github",
        "colab_type": "text"
      },
      "source": [
        "<a href=\"https://colab.research.google.com/github/SJhawar1010/Reinforcement-Learning/blob/main/Satyam_554_RL_Lab1.ipynb\" target=\"_parent\"><img src=\"https://colab.research.google.com/assets/colab-badge.svg\" alt=\"Open In Colab\"/></a>"
      ]
    },
    {
      "cell_type": "code",
      "execution_count": 1,
      "metadata": {
        "id": "sbtzjnlWYW8-"
      },
      "outputs": [],
      "source": [
        "import random"
      ]
    },
    {
      "cell_type": "code",
      "source": [
        "slots = 4"
      ],
      "metadata": {
        "id": "czHYNveqZUNi"
      },
      "execution_count": 2,
      "outputs": []
    },
    {
      "cell_type": "code",
      "source": [
        "imps = 1000\n",
        "epsilon = 0.1\n",
        "clicks = [0] * slots\n",
        "impressions = [0] * slots\n",
        "e_ctr = [0.0] * slots"
      ],
      "metadata": {
        "id": "wCHlkivNZaGa"
      },
      "execution_count": 9,
      "outputs": []
    },
    {
      "cell_type": "code",
      "source": [
        "for i in range(imps):\n",
        "    if random.random() < epsilon:\n",
        "        sslot = random.randint(0, slots - 1)\n",
        "    else:\n",
        "        sslot = e_ctr.index(max(e_ctr))\n",
        "\n",
        "\n",
        "    ctr = [0.05, 0.1, 0.07, 0.15]\n",
        "    reward = 1 if random.random() < ctr[sslot] else 0\n",
        "\n",
        "    clicks[sslot] += reward\n",
        "    impressions[sslot] += 1\n",
        "\n",
        "    e_ctr[sslot] = clicks[sslot] / impressions[sslot]"
      ],
      "metadata": {
        "id": "XQ2wZkbdZsgW"
      },
      "execution_count": 10,
      "outputs": []
    },
    {
      "cell_type": "code",
      "source": [
        "for slot in range(slots):\n",
        "    print(f\"Ad Slot {slot}:\")\n",
        "    print(f\"  Impressions: {impressions[slot]}\")\n",
        "    print(f\"  Clicks: {clicks[slot]}\")\n",
        "    print(f\"  Estimated CTR: {e_ctr[slot]:.4f}\")"
      ],
      "metadata": {
        "colab": {
          "base_uri": "https://localhost:8080/"
        },
        "id": "NW66SLGqZx6P",
        "outputId": "32a7be68-ffe1-46dc-a379-2c44ba367b24"
      },
      "execution_count": 11,
      "outputs": [
        {
          "output_type": "stream",
          "name": "stdout",
          "text": [
            "Ad Slot 0:\n",
            "  Impressions: 34\n",
            "  Clicks: 1\n",
            "  Estimated CTR: 0.0294\n",
            "Ad Slot 1:\n",
            "  Impressions: 38\n",
            "  Clicks: 3\n",
            "  Estimated CTR: 0.0789\n",
            "Ad Slot 2:\n",
            "  Impressions: 64\n",
            "  Clicks: 1\n",
            "  Estimated CTR: 0.0156\n",
            "Ad Slot 3:\n",
            "  Impressions: 864\n",
            "  Clicks: 141\n",
            "  Estimated CTR: 0.1632\n"
          ]
        }
      ]
    },
    {
      "cell_type": "code",
      "source": [],
      "metadata": {
        "id": "hV5g23abZ6Gu"
      },
      "execution_count": null,
      "outputs": []
    }
  ]
}