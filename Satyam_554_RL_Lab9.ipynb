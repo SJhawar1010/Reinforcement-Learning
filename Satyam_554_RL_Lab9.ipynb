{
  "nbformat": 4,
  "nbformat_minor": 0,
  "metadata": {
    "colab": {
      "provenance": [],
      "include_colab_link": true
    },
    "kernelspec": {
      "name": "python3",
      "display_name": "Python 3"
    },
    "language_info": {
      "name": "python"
    }
  },
  "cells": [
    {
      "cell_type": "markdown",
      "metadata": {
        "id": "view-in-github",
        "colab_type": "text"
      },
      "source": [
        "<a href=\"https://colab.research.google.com/github/SJhawar1010/Reinforcement-Learning/blob/main/Satyam_554_RL_Lab9.ipynb\" target=\"_parent\"><img src=\"https://colab.research.google.com/assets/colab-badge.svg\" alt=\"Open In Colab\"/></a>"
      ]
    },
    {
      "cell_type": "code",
      "execution_count": 1,
      "metadata": {
        "id": "xnV4qQiBMV_W"
      },
      "outputs": [],
      "source": [
        "import numpy as np"
      ]
    },
    {
      "cell_type": "code",
      "source": [
        "lr = 0.1\n",
        "discount = 0.9\n",
        "episodes = 50"
      ],
      "metadata": {
        "id": "_DyPC6arRIf-"
      },
      "execution_count": 2,
      "outputs": []
    },
    {
      "cell_type": "code",
      "source": [
        "size = 3\n",
        "states = size * size\n",
        "goal = states - 1\n",
        "\n",
        "V = np.zeros(states)\n",
        "\n",
        "rewards = np.zeros(states)\n",
        "rewards[goal] = 1"
      ],
      "metadata": {
        "id": "PROv-J6QRKl8"
      },
      "execution_count": 3,
      "outputs": []
    },
    {
      "cell_type": "code",
      "source": [
        "def get_next_state(state, action):\n",
        "    row, col = divmod(state, size)\n",
        "    if action == 'up' and row > 0:\n",
        "        return state - size\n",
        "    elif action == 'down' and row < size - 1:\n",
        "        return state + size\n",
        "    elif action == 'left' and col > 0:\n",
        "        return state - 1\n",
        "    elif action == 'right' and col < size - 1:\n",
        "        return state + 1\n",
        "    else:\n",
        "        return state"
      ],
      "metadata": {
        "id": "DiDzzUEGRMs9"
      },
      "execution_count": 4,
      "outputs": []
    },
    {
      "cell_type": "code",
      "source": [
        "for episode in range(episodes):\n",
        "    state = 0\n",
        "    while state != goal:\n",
        "\n",
        "        action = np.random.choice(['up', 'down', 'left', 'right'])\n",
        "\n",
        "        next_state = get_next_state(state, action)\n",
        "        reward = rewards[next_state]\n",
        "\n",
        "        V[state] += lr * (reward + discount * V[next_state] - V[state])\n",
        "\n",
        "        state = next_state"
      ],
      "metadata": {
        "id": "VTUYuf_NROKf"
      },
      "execution_count": 5,
      "outputs": []
    },
    {
      "cell_type": "code",
      "source": [
        "V_grid = V.reshape((size, size))\n",
        "print(\"Learned State-Value Function:\")\n",
        "print(V_grid)"
      ],
      "metadata": {
        "colab": {
          "base_uri": "https://localhost:8080/"
        },
        "id": "uPtkD9XwRPYe",
        "outputId": "7973b236-5c1f-4493-9d51-bfffbc7a4ef6"
      },
      "execution_count": 6,
      "outputs": [
        {
          "output_type": "stream",
          "name": "stdout",
          "text": [
            "Learned State-Value Function:\n",
            "[[0.16535855 0.19300863 0.27905949]\n",
            " [0.22648709 0.33905361 0.47553927]\n",
            " [0.30996209 0.53171324 0.        ]]\n"
          ]
        }
      ]
    },
    {
      "cell_type": "code",
      "source": [],
      "metadata": {
        "id": "TXZkDO5URQuN"
      },
      "execution_count": null,
      "outputs": []
    }
  ]
}