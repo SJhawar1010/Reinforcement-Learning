{
  "nbformat": 4,
  "nbformat_minor": 0,
  "metadata": {
    "colab": {
      "provenance": [],
      "gpuType": "V28",
      "authorship_tag": "ABX9TyOd4k0OLD+RXOMf7xS61dAX",
      "include_colab_link": true
    },
    "kernelspec": {
      "name": "python3",
      "display_name": "Python 3"
    },
    "language_info": {
      "name": "python"
    },
    "accelerator": "TPU"
  },
  "cells": [
    {
      "cell_type": "markdown",
      "metadata": {
        "id": "view-in-github",
        "colab_type": "text"
      },
      "source": [
        "<a href=\"https://colab.research.google.com/github/SJhawar1010/Reinforcement-Learning/blob/main/Satyam_554_RLProject.ipynb\" target=\"_parent\"><img src=\"https://colab.research.google.com/assets/colab-badge.svg\" alt=\"Open In Colab\"/></a>"
      ]
    },
    {
      "cell_type": "code",
      "source": [
        "!pip install tensorflow\n",
        "!pip install cmake\n",
        "!pip install atari-py\n",
        "!pip install gym\n",
        "!pip install gym[atari]\n",
        "!pip install keras-rl2"
      ],
      "metadata": {
        "colab": {
          "base_uri": "https://localhost:8080/"
        },
        "id": "jAKdA_uwfG5A",
        "outputId": "b126acc3-4721-40e9-d5c9-ce32658e3b09"
      },
      "execution_count": 1,
      "outputs": [
        {
          "output_type": "stream",
          "name": "stdout",
          "text": [
            "Requirement already satisfied: tensorflow in /usr/local/lib/python3.10/dist-packages (2.15.0)\n",
            "Requirement already satisfied: absl-py>=1.0.0 in /usr/local/lib/python3.10/dist-packages (from tensorflow) (1.4.0)\n",
            "Requirement already satisfied: astunparse>=1.6.0 in /usr/local/lib/python3.10/dist-packages (from tensorflow) (1.6.3)\n",
            "Requirement already satisfied: flatbuffers>=23.5.26 in /usr/local/lib/python3.10/dist-packages (from tensorflow) (24.3.25)\n",
            "Requirement already satisfied: gast!=0.5.0,!=0.5.1,!=0.5.2,>=0.2.1 in /usr/local/lib/python3.10/dist-packages (from tensorflow) (0.6.0)\n",
            "Requirement already satisfied: google-pasta>=0.1.1 in /usr/local/lib/python3.10/dist-packages (from tensorflow) (0.2.0)\n",
            "Requirement already satisfied: h5py>=2.9.0 in /usr/local/lib/python3.10/dist-packages (from tensorflow) (3.12.1)\n",
            "Requirement already satisfied: libclang>=13.0.0 in /usr/local/lib/python3.10/dist-packages (from tensorflow) (18.1.1)\n",
            "Requirement already satisfied: ml-dtypes~=0.2.0 in /usr/local/lib/python3.10/dist-packages (from tensorflow) (0.2.0)\n",
            "Requirement already satisfied: numpy<2.0.0,>=1.23.5 in /usr/local/lib/python3.10/dist-packages (from tensorflow) (1.26.4)\n",
            "Requirement already satisfied: opt-einsum>=2.3.2 in /usr/local/lib/python3.10/dist-packages (from tensorflow) (3.4.0)\n",
            "Requirement already satisfied: packaging in /usr/local/lib/python3.10/dist-packages (from tensorflow) (24.2)\n",
            "Requirement already satisfied: protobuf!=4.21.0,!=4.21.1,!=4.21.2,!=4.21.3,!=4.21.4,!=4.21.5,<5.0.0dev,>=3.20.3 in /usr/local/lib/python3.10/dist-packages (from tensorflow) (4.25.5)\n",
            "Requirement already satisfied: setuptools in /usr/local/lib/python3.10/dist-packages (from tensorflow) (75.1.0)\n",
            "Requirement already satisfied: six>=1.12.0 in /usr/local/lib/python3.10/dist-packages (from tensorflow) (1.16.0)\n",
            "Requirement already satisfied: termcolor>=1.1.0 in /usr/local/lib/python3.10/dist-packages (from tensorflow) (2.5.0)\n",
            "Requirement already satisfied: typing-extensions>=3.6.6 in /usr/local/lib/python3.10/dist-packages (from tensorflow) (4.12.2)\n",
            "Requirement already satisfied: wrapt<1.15,>=1.11.0 in /usr/local/lib/python3.10/dist-packages (from tensorflow) (1.14.1)\n",
            "Requirement already satisfied: tensorflow-io-gcs-filesystem>=0.23.1 in /usr/local/lib/python3.10/dist-packages (from tensorflow) (0.37.1)\n",
            "Requirement already satisfied: grpcio<2.0,>=1.24.3 in /usr/local/lib/python3.10/dist-packages (from tensorflow) (1.68.1)\n",
            "Requirement already satisfied: tensorboard<2.16,>=2.15 in /usr/local/lib/python3.10/dist-packages (from tensorflow) (2.15.2)\n",
            "Requirement already satisfied: tensorflow-estimator<2.16,>=2.15.0 in /usr/local/lib/python3.10/dist-packages (from tensorflow) (2.15.0)\n",
            "Requirement already satisfied: keras<2.16,>=2.15.0 in /usr/local/lib/python3.10/dist-packages (from tensorflow) (2.15.0)\n",
            "Requirement already satisfied: wheel<1.0,>=0.23.0 in /usr/local/lib/python3.10/dist-packages (from astunparse>=1.6.0->tensorflow) (0.45.1)\n",
            "Requirement already satisfied: google-auth<3,>=1.6.3 in /usr/local/lib/python3.10/dist-packages (from tensorboard<2.16,>=2.15->tensorflow) (2.27.0)\n",
            "Requirement already satisfied: google-auth-oauthlib<2,>=0.5 in /usr/local/lib/python3.10/dist-packages (from tensorboard<2.16,>=2.15->tensorflow) (1.2.1)\n",
            "Requirement already satisfied: markdown>=2.6.8 in /usr/local/lib/python3.10/dist-packages (from tensorboard<2.16,>=2.15->tensorflow) (3.7)\n",
            "Requirement already satisfied: requests<3,>=2.21.0 in /usr/local/lib/python3.10/dist-packages (from tensorboard<2.16,>=2.15->tensorflow) (2.32.3)\n",
            "Requirement already satisfied: tensorboard-data-server<0.8.0,>=0.7.0 in /usr/local/lib/python3.10/dist-packages (from tensorboard<2.16,>=2.15->tensorflow) (0.7.2)\n",
            "Requirement already satisfied: werkzeug>=1.0.1 in /usr/local/lib/python3.10/dist-packages (from tensorboard<2.16,>=2.15->tensorflow) (3.1.3)\n",
            "Requirement already satisfied: cachetools<6.0,>=2.0.0 in /usr/local/lib/python3.10/dist-packages (from google-auth<3,>=1.6.3->tensorboard<2.16,>=2.15->tensorflow) (5.5.0)\n",
            "Requirement already satisfied: pyasn1-modules>=0.2.1 in /usr/local/lib/python3.10/dist-packages (from google-auth<3,>=1.6.3->tensorboard<2.16,>=2.15->tensorflow) (0.4.1)\n",
            "Requirement already satisfied: rsa<5,>=3.1.4 in /usr/local/lib/python3.10/dist-packages (from google-auth<3,>=1.6.3->tensorboard<2.16,>=2.15->tensorflow) (4.9)\n",
            "Requirement already satisfied: requests-oauthlib>=0.7.0 in /usr/local/lib/python3.10/dist-packages (from google-auth-oauthlib<2,>=0.5->tensorboard<2.16,>=2.15->tensorflow) (2.0.0)\n",
            "Requirement already satisfied: charset-normalizer<4,>=2 in /usr/local/lib/python3.10/dist-packages (from requests<3,>=2.21.0->tensorboard<2.16,>=2.15->tensorflow) (3.4.0)\n",
            "Requirement already satisfied: idna<4,>=2.5 in /usr/local/lib/python3.10/dist-packages (from requests<3,>=2.21.0->tensorboard<2.16,>=2.15->tensorflow) (3.10)\n",
            "Requirement already satisfied: urllib3<3,>=1.21.1 in /usr/local/lib/python3.10/dist-packages (from requests<3,>=2.21.0->tensorboard<2.16,>=2.15->tensorflow) (2.2.3)\n",
            "Requirement already satisfied: certifi>=2017.4.17 in /usr/local/lib/python3.10/dist-packages (from requests<3,>=2.21.0->tensorboard<2.16,>=2.15->tensorflow) (2024.8.30)\n",
            "Requirement already satisfied: MarkupSafe>=2.1.1 in /usr/local/lib/python3.10/dist-packages (from werkzeug>=1.0.1->tensorboard<2.16,>=2.15->tensorflow) (3.0.2)\n",
            "Requirement already satisfied: pyasn1<0.7.0,>=0.4.6 in /usr/local/lib/python3.10/dist-packages (from pyasn1-modules>=0.2.1->google-auth<3,>=1.6.3->tensorboard<2.16,>=2.15->tensorflow) (0.6.1)\n",
            "Requirement already satisfied: oauthlib>=3.0.0 in /usr/local/lib/python3.10/dist-packages (from requests-oauthlib>=0.7.0->google-auth-oauthlib<2,>=0.5->tensorboard<2.16,>=2.15->tensorflow) (3.2.2)\n",
            "Collecting cmake\n",
            "  Downloading cmake-3.31.1-py3-none-manylinux_2_17_x86_64.manylinux2014_x86_64.whl.metadata (6.5 kB)\n",
            "Downloading cmake-3.31.1-py3-none-manylinux_2_17_x86_64.manylinux2014_x86_64.whl (27.8 MB)\n",
            "\u001b[2K   \u001b[90m━━━━━━━━━━━━━━━━━━━━━━━━━━━━━━━━━━━━━━━━\u001b[0m \u001b[32m27.8/27.8 MB\u001b[0m \u001b[31m60.3 MB/s\u001b[0m eta \u001b[36m0:00:00\u001b[0m\n",
            "\u001b[?25hInstalling collected packages: cmake\n",
            "Successfully installed cmake-3.31.1\n",
            "Collecting atari-py\n",
            "  Downloading atari-py-0.2.9.tar.gz (540 kB)\n",
            "\u001b[2K     \u001b[90m━━━━━━━━━━━━━━━━━━━━━━━━━━━━━━━━━━━━━━━━\u001b[0m \u001b[32m540.6/540.6 kB\u001b[0m \u001b[31m8.4 MB/s\u001b[0m eta \u001b[36m0:00:00\u001b[0m\n",
            "\u001b[?25h  Preparing metadata (setup.py) ... \u001b[?25l\u001b[?25hdone\n",
            "Requirement already satisfied: numpy in /usr/local/lib/python3.10/dist-packages (from atari-py) (1.26.4)\n",
            "Requirement already satisfied: six in /usr/local/lib/python3.10/dist-packages (from atari-py) (1.16.0)\n",
            "Building wheels for collected packages: atari-py\n",
            "  Building wheel for atari-py (setup.py) ... \u001b[?25l\u001b[?25hdone\n",
            "  Created wheel for atari-py: filename=atari_py-0.2.9-cp310-cp310-linux_x86_64.whl size=2872085 sha256=e4c712378345c67b26c34fa562d7741a925cf79199a85a476f351d1d32567f96\n",
            "  Stored in directory: /root/.cache/pip/wheels/75/6f/04/1f3bf5255580101e16ff487564354dddcdd23ec3b43b775b7a\n",
            "Successfully built atari-py\n",
            "Installing collected packages: atari-py\n",
            "Successfully installed atari-py-0.2.9\n",
            "Requirement already satisfied: gym in /usr/local/lib/python3.10/dist-packages (0.25.2)\n",
            "Requirement already satisfied: numpy>=1.18.0 in /usr/local/lib/python3.10/dist-packages (from gym) (1.26.4)\n",
            "Requirement already satisfied: cloudpickle>=1.2.0 in /usr/local/lib/python3.10/dist-packages (from gym) (3.1.0)\n",
            "Requirement already satisfied: gym_notices>=0.0.4 in /usr/local/lib/python3.10/dist-packages (from gym) (0.0.8)\n",
            "Requirement already satisfied: gym[atari] in /usr/local/lib/python3.10/dist-packages (0.25.2)\n",
            "Requirement already satisfied: numpy>=1.18.0 in /usr/local/lib/python3.10/dist-packages (from gym[atari]) (1.26.4)\n",
            "Requirement already satisfied: cloudpickle>=1.2.0 in /usr/local/lib/python3.10/dist-packages (from gym[atari]) (3.1.0)\n",
            "Requirement already satisfied: gym_notices>=0.0.4 in /usr/local/lib/python3.10/dist-packages (from gym[atari]) (0.0.8)\n",
            "Collecting ale-py~=0.7.5 (from gym[atari])\n",
            "  Downloading ale_py-0.7.5-cp310-cp310-manylinux_2_17_x86_64.manylinux2014_x86_64.whl.metadata (8.1 kB)\n",
            "Requirement already satisfied: importlib-resources in /usr/local/lib/python3.10/dist-packages (from ale-py~=0.7.5->gym[atari]) (6.4.5)\n",
            "Downloading ale_py-0.7.5-cp310-cp310-manylinux_2_17_x86_64.manylinux2014_x86_64.whl (1.6 MB)\n",
            "\u001b[2K   \u001b[90m━━━━━━━━━━━━━━━━━━━━━━━━━━━━━━━━━━━━━━━━\u001b[0m \u001b[32m1.6/1.6 MB\u001b[0m \u001b[31m17.1 MB/s\u001b[0m eta \u001b[36m0:00:00\u001b[0m\n",
            "\u001b[?25hInstalling collected packages: ale-py\n",
            "Successfully installed ale-py-0.7.5\n",
            "Collecting keras-rl2\n",
            "  Downloading keras_rl2-1.0.5-py3-none-any.whl.metadata (304 bytes)\n",
            "Requirement already satisfied: tensorflow in /usr/local/lib/python3.10/dist-packages (from keras-rl2) (2.15.0)\n",
            "Requirement already satisfied: absl-py>=1.0.0 in /usr/local/lib/python3.10/dist-packages (from tensorflow->keras-rl2) (1.4.0)\n",
            "Requirement already satisfied: astunparse>=1.6.0 in /usr/local/lib/python3.10/dist-packages (from tensorflow->keras-rl2) (1.6.3)\n",
            "Requirement already satisfied: flatbuffers>=23.5.26 in /usr/local/lib/python3.10/dist-packages (from tensorflow->keras-rl2) (24.3.25)\n",
            "Requirement already satisfied: gast!=0.5.0,!=0.5.1,!=0.5.2,>=0.2.1 in /usr/local/lib/python3.10/dist-packages (from tensorflow->keras-rl2) (0.6.0)\n",
            "Requirement already satisfied: google-pasta>=0.1.1 in /usr/local/lib/python3.10/dist-packages (from tensorflow->keras-rl2) (0.2.0)\n",
            "Requirement already satisfied: h5py>=2.9.0 in /usr/local/lib/python3.10/dist-packages (from tensorflow->keras-rl2) (3.12.1)\n",
            "Requirement already satisfied: libclang>=13.0.0 in /usr/local/lib/python3.10/dist-packages (from tensorflow->keras-rl2) (18.1.1)\n",
            "Requirement already satisfied: ml-dtypes~=0.2.0 in /usr/local/lib/python3.10/dist-packages (from tensorflow->keras-rl2) (0.2.0)\n",
            "Requirement already satisfied: numpy<2.0.0,>=1.23.5 in /usr/local/lib/python3.10/dist-packages (from tensorflow->keras-rl2) (1.26.4)\n",
            "Requirement already satisfied: opt-einsum>=2.3.2 in /usr/local/lib/python3.10/dist-packages (from tensorflow->keras-rl2) (3.4.0)\n",
            "Requirement already satisfied: packaging in /usr/local/lib/python3.10/dist-packages (from tensorflow->keras-rl2) (24.2)\n",
            "Requirement already satisfied: protobuf!=4.21.0,!=4.21.1,!=4.21.2,!=4.21.3,!=4.21.4,!=4.21.5,<5.0.0dev,>=3.20.3 in /usr/local/lib/python3.10/dist-packages (from tensorflow->keras-rl2) (4.25.5)\n",
            "Requirement already satisfied: setuptools in /usr/local/lib/python3.10/dist-packages (from tensorflow->keras-rl2) (75.1.0)\n",
            "Requirement already satisfied: six>=1.12.0 in /usr/local/lib/python3.10/dist-packages (from tensorflow->keras-rl2) (1.16.0)\n",
            "Requirement already satisfied: termcolor>=1.1.0 in /usr/local/lib/python3.10/dist-packages (from tensorflow->keras-rl2) (2.5.0)\n",
            "Requirement already satisfied: typing-extensions>=3.6.6 in /usr/local/lib/python3.10/dist-packages (from tensorflow->keras-rl2) (4.12.2)\n",
            "Requirement already satisfied: wrapt<1.15,>=1.11.0 in /usr/local/lib/python3.10/dist-packages (from tensorflow->keras-rl2) (1.14.1)\n",
            "Requirement already satisfied: tensorflow-io-gcs-filesystem>=0.23.1 in /usr/local/lib/python3.10/dist-packages (from tensorflow->keras-rl2) (0.37.1)\n",
            "Requirement already satisfied: grpcio<2.0,>=1.24.3 in /usr/local/lib/python3.10/dist-packages (from tensorflow->keras-rl2) (1.68.1)\n",
            "Requirement already satisfied: tensorboard<2.16,>=2.15 in /usr/local/lib/python3.10/dist-packages (from tensorflow->keras-rl2) (2.15.2)\n",
            "Requirement already satisfied: tensorflow-estimator<2.16,>=2.15.0 in /usr/local/lib/python3.10/dist-packages (from tensorflow->keras-rl2) (2.15.0)\n",
            "Requirement already satisfied: keras<2.16,>=2.15.0 in /usr/local/lib/python3.10/dist-packages (from tensorflow->keras-rl2) (2.15.0)\n",
            "Requirement already satisfied: wheel<1.0,>=0.23.0 in /usr/local/lib/python3.10/dist-packages (from astunparse>=1.6.0->tensorflow->keras-rl2) (0.45.1)\n",
            "Requirement already satisfied: google-auth<3,>=1.6.3 in /usr/local/lib/python3.10/dist-packages (from tensorboard<2.16,>=2.15->tensorflow->keras-rl2) (2.27.0)\n",
            "Requirement already satisfied: google-auth-oauthlib<2,>=0.5 in /usr/local/lib/python3.10/dist-packages (from tensorboard<2.16,>=2.15->tensorflow->keras-rl2) (1.2.1)\n",
            "Requirement already satisfied: markdown>=2.6.8 in /usr/local/lib/python3.10/dist-packages (from tensorboard<2.16,>=2.15->tensorflow->keras-rl2) (3.7)\n",
            "Requirement already satisfied: requests<3,>=2.21.0 in /usr/local/lib/python3.10/dist-packages (from tensorboard<2.16,>=2.15->tensorflow->keras-rl2) (2.32.3)\n",
            "Requirement already satisfied: tensorboard-data-server<0.8.0,>=0.7.0 in /usr/local/lib/python3.10/dist-packages (from tensorboard<2.16,>=2.15->tensorflow->keras-rl2) (0.7.2)\n",
            "Requirement already satisfied: werkzeug>=1.0.1 in /usr/local/lib/python3.10/dist-packages (from tensorboard<2.16,>=2.15->tensorflow->keras-rl2) (3.1.3)\n",
            "Requirement already satisfied: cachetools<6.0,>=2.0.0 in /usr/local/lib/python3.10/dist-packages (from google-auth<3,>=1.6.3->tensorboard<2.16,>=2.15->tensorflow->keras-rl2) (5.5.0)\n",
            "Requirement already satisfied: pyasn1-modules>=0.2.1 in /usr/local/lib/python3.10/dist-packages (from google-auth<3,>=1.6.3->tensorboard<2.16,>=2.15->tensorflow->keras-rl2) (0.4.1)\n",
            "Requirement already satisfied: rsa<5,>=3.1.4 in /usr/local/lib/python3.10/dist-packages (from google-auth<3,>=1.6.3->tensorboard<2.16,>=2.15->tensorflow->keras-rl2) (4.9)\n",
            "Requirement already satisfied: requests-oauthlib>=0.7.0 in /usr/local/lib/python3.10/dist-packages (from google-auth-oauthlib<2,>=0.5->tensorboard<2.16,>=2.15->tensorflow->keras-rl2) (2.0.0)\n",
            "Requirement already satisfied: charset-normalizer<4,>=2 in /usr/local/lib/python3.10/dist-packages (from requests<3,>=2.21.0->tensorboard<2.16,>=2.15->tensorflow->keras-rl2) (3.4.0)\n",
            "Requirement already satisfied: idna<4,>=2.5 in /usr/local/lib/python3.10/dist-packages (from requests<3,>=2.21.0->tensorboard<2.16,>=2.15->tensorflow->keras-rl2) (3.10)\n",
            "Requirement already satisfied: urllib3<3,>=1.21.1 in /usr/local/lib/python3.10/dist-packages (from requests<3,>=2.21.0->tensorboard<2.16,>=2.15->tensorflow->keras-rl2) (2.2.3)\n",
            "Requirement already satisfied: certifi>=2017.4.17 in /usr/local/lib/python3.10/dist-packages (from requests<3,>=2.21.0->tensorboard<2.16,>=2.15->tensorflow->keras-rl2) (2024.8.30)\n",
            "Requirement already satisfied: MarkupSafe>=2.1.1 in /usr/local/lib/python3.10/dist-packages (from werkzeug>=1.0.1->tensorboard<2.16,>=2.15->tensorflow->keras-rl2) (3.0.2)\n",
            "Requirement already satisfied: pyasn1<0.7.0,>=0.4.6 in /usr/local/lib/python3.10/dist-packages (from pyasn1-modules>=0.2.1->google-auth<3,>=1.6.3->tensorboard<2.16,>=2.15->tensorflow->keras-rl2) (0.6.1)\n",
            "Requirement already satisfied: oauthlib>=3.0.0 in /usr/local/lib/python3.10/dist-packages (from requests-oauthlib>=0.7.0->google-auth-oauthlib<2,>=0.5->tensorboard<2.16,>=2.15->tensorflow->keras-rl2) (3.2.2)\n",
            "Downloading keras_rl2-1.0.5-py3-none-any.whl (52 kB)\n",
            "\u001b[2K   \u001b[90m━━━━━━━━━━━━━━━━━━━━━━━━━━━━━━━━━━━━━━━━\u001b[0m \u001b[32m52.1/52.1 kB\u001b[0m \u001b[31m1.8 MB/s\u001b[0m eta \u001b[36m0:00:00\u001b[0m\n",
            "\u001b[?25hInstalling collected packages: keras-rl2\n",
            "Successfully installed keras-rl2-1.0.5\n"
          ]
        }
      ]
    },
    {
      "cell_type": "code",
      "source": [
        "import zipfile\n",
        "import os"
      ],
      "metadata": {
        "id": "cyHIjpk7bxAI"
      },
      "execution_count": 2,
      "outputs": []
    },
    {
      "cell_type": "code",
      "source": [
        "ZFP = \"/content/Atari-2600-VCS-ROM-Collection.zip\"\n",
        "EP = \"/content/Atari-2600-VCS-ROM-Collection\""
      ],
      "metadata": {
        "id": "kPdzbDWBb0Kk"
      },
      "execution_count": 3,
      "outputs": []
    },
    {
      "cell_type": "code",
      "source": [
        "if os.path.exists(ZFP):\n",
        "    with zipfile.ZipFile(ZFP, 'r') as zip_ref:\n",
        "        zip_ref.extractall(EP)\n",
        "    print(f\"Files extracted to: {EP}\")\n",
        "else:\n",
        "    print(f\"Zip file not found at: {ZFP}\")"
      ],
      "metadata": {
        "colab": {
          "base_uri": "https://localhost:8080/"
        },
        "id": "AeL8K8IJb5Kb",
        "outputId": "860d1c00-7bc7-4e74-a7c5-21b39172c6ba"
      },
      "execution_count": 4,
      "outputs": [
        {
          "output_type": "stream",
          "name": "stdout",
          "text": [
            "Files extracted to: /content/Atari-2600-VCS-ROM-Collection\n"
          ]
        }
      ]
    },
    {
      "cell_type": "code",
      "source": [
        "!python -m atari_py.import_roms /content/Atari-2600-VCS-ROM-Collection"
      ],
      "metadata": {
        "colab": {
          "base_uri": "https://localhost:8080/"
        },
        "id": "P2sCSHKxaFD_",
        "outputId": "c935ed95-6bce-4562-dff5-93bba1c450d6"
      },
      "execution_count": 5,
      "outputs": [
        {
          "output_type": "stream",
          "name": "stdout",
          "text": [
            "copying lost_luggage.bin from /content/Atari-2600-VCS-ROM-Collection/ROMS/Lost Luggage (Airport Mayhem) (1982) (Apollo - Games by Apollo, Larry Minor, Ernie Runyon, Ed Salvo) (AP-2004) [no opening scene] ~.bin to /usr/local/lib/python3.10/dist-packages/atari_py/atari_roms/lost_luggage.bin\n",
            "copying keystone_kapers.bin from /content/Atari-2600-VCS-ROM-Collection/ROMS/Keystone Kapers - Raueber und Gendarm (1983) (Activision, Garry Kitchen - Ariola) (EAX-025, EAX-025-04I - 711 025-725) (PAL).bin to /usr/local/lib/python3.10/dist-packages/atari_py/atari_roms/keystone_kapers.bin\n",
            "copying battle_zone.bin from /content/Atari-2600-VCS-ROM-Collection/ROMS/Battlezone (1983) (Atari - GCC, Michael Feinstein, Patricia Goodson, Brad Rice) (CX2681) ~.bin to /usr/local/lib/python3.10/dist-packages/atari_py/atari_roms/battle_zone.bin\n",
            "copying galaxian.bin from /content/Atari-2600-VCS-ROM-Collection/ROMS/Galaxian (1983) (Atari - GCC, Mark S. Ackerman, Tom Calderwood, Patricia Goodson, Glenn Parker) (CX2684) ~.bin to /usr/local/lib/python3.10/dist-packages/atari_py/atari_roms/galaxian.bin\n",
            "copying seaquest.bin from /content/Atari-2600-VCS-ROM-Collection/ROMS/Seaquest (1983) (Activision, Steve Cartwright) (AX-022) ~.bin to /usr/local/lib/python3.10/dist-packages/atari_py/atari_roms/seaquest.bin\n",
            "copying gravitar.bin from /content/Atari-2600-VCS-ROM-Collection/ROMS/Gravitar (1983) (Atari, Dan Hitchens, Mimi Nyden) (CX2685) ~.bin to /usr/local/lib/python3.10/dist-packages/atari_py/atari_roms/gravitar.bin\n",
            "copying demon_attack.bin from /content/Atari-2600-VCS-ROM-Collection/ROMS/Demon Attack (Death from Above) (1982) (Imagic, Rob Fulop) (720000-200, 720101-1B, 720101-1C, IA3200, IA3200C, IX-006-04) ~.bin to /usr/local/lib/python3.10/dist-packages/atari_py/atari_roms/demon_attack.bin\n",
            "copying mr_do.bin from /content/Atari-2600-VCS-ROM-Collection/ROMS/Mr. Do! (1983) (CBS Electronics - Individeo, Ed English) (4L4478) (PAL).bin to /usr/local/lib/python3.10/dist-packages/atari_py/atari_roms/mr_do.bin\n",
            "copying bank_heist.bin from /content/Atari-2600-VCS-ROM-Collection/ROMS/Bank Heist (Bonnie & Clyde, Cops 'n' Robbers, Hold-Up, Roaring 20's) (1983) (20th Century Fox Video Games, Bill Aspromonte) (11012) ~.bin to /usr/local/lib/python3.10/dist-packages/atari_py/atari_roms/bank_heist.bin\n",
            "copying double_dunk.bin from /content/Atari-2600-VCS-ROM-Collection/ROMS/Double Dunk (Super Basketball) (1989) (Atari, Matthew L. Hubbard) (CX26159) ~.bin to /usr/local/lib/python3.10/dist-packages/atari_py/atari_roms/double_dunk.bin\n",
            "copying montezuma_revenge.bin from /content/Atari-2600-VCS-ROM-Collection/ROMS/Montezuma's Revenge - Featuring Panama Joe (1984) (Parker Brothers - JWDA, Henry Will IV) (PB5760) ~.bin to /usr/local/lib/python3.10/dist-packages/atari_py/atari_roms/montezuma_revenge.bin\n",
            "copying private_eye.bin from /content/Atari-2600-VCS-ROM-Collection/ROMS/Private Eye (1984) (Activision, Bob Whitehead) (AG-034-04) ~.bin to /usr/local/lib/python3.10/dist-packages/atari_py/atari_roms/private_eye.bin\n",
            "copying ms_pacman.bin from /content/Atari-2600-VCS-ROM-Collection/ROMS/Ms. Pac-Man (1983) (Atari - GCC, Mark S. Ackerman, Patricia Goodson, Josh Littlefield, Douglas B. Macrae, Glenn Parker) (CX2675) ~.bin to /usr/local/lib/python3.10/dist-packages/atari_py/atari_roms/ms_pacman.bin\n",
            "copying krull.bin from /content/Atari-2600-VCS-ROM-Collection/ROMS/Krull (1983) (Atari, Jerome Domurat, Dave Staugas) (CX2682) ~.bin to /usr/local/lib/python3.10/dist-packages/atari_py/atari_roms/krull.bin\n",
            "copying fishing_derby.bin from /content/Atari-2600-VCS-ROM-Collection/ROMS/Fishing Derby (1980) (Activision, David Crane) (AG-004) ~.bin to /usr/local/lib/python3.10/dist-packages/atari_py/atari_roms/fishing_derby.bin\n",
            "copying frostbite.bin from /content/Atari-2600-VCS-ROM-Collection/ROMS/Frostbite (Iceman) (1983) (Activision, Steve Cartwright) (AX-031) ~.bin to /usr/local/lib/python3.10/dist-packages/atari_py/atari_roms/frostbite.bin\n",
            "copying jamesbond.bin from /content/Atari-2600-VCS-ROM-Collection/ROMS/James Bond 007 (James Bond Agent 007) (1984) (Parker Brothers - On-Time Software, Joe Gaucher, Dan Kurczewski, Louis Marbel, Kathy Von) (PB5110) ~.bin to /usr/local/lib/python3.10/dist-packages/atari_py/atari_roms/jamesbond.bin\n",
            "copying solaris.bin from /content/Atari-2600-VCS-ROM-Collection/ROMS/Solaris (The Last Starfighter, Star Raiders II, Universe) (1986) (Atari, Douglas Neubauer, Mimi Nyden) (CX26136) ~.bin to /usr/local/lib/python3.10/dist-packages/atari_py/atari_roms/solaris.bin\n",
            "copying skiing.bin from /content/Atari-2600-VCS-ROM-Collection/ROMS/Skiing - Le Ski (1980) (Activision, Bob Whitehead) (AG-005, CAG-005, AG-005-04) ~.bin to /usr/local/lib/python3.10/dist-packages/atari_py/atari_roms/skiing.bin\n",
            "copying adventure.bin from /content/Atari-2600-VCS-ROM-Collection/ROMS/Adventure (1980) (Atari, Warren Robinett) (CX2613, CX2613P) (PAL).bin to /usr/local/lib/python3.10/dist-packages/atari_py/atari_roms/adventure.bin\n",
            "copying gopher.bin from /content/Atari-2600-VCS-ROM-Collection/ROMS/Gopher (Gopher Attack) (1982) (U.S. Games Corporation - JWDA, Sylvia Day, Todd Marshall, Robin McDaniel, Henry Will IV) (VC2001) ~.bin to /usr/local/lib/python3.10/dist-packages/atari_py/atari_roms/gopher.bin\n",
            "copying berzerk.bin from /content/Atari-2600-VCS-ROM-Collection/ROMS/Berzerk (1982) (Atari, Dan Hitchens - Sears) (CX2650 - 49-75168) ~.bin to /usr/local/lib/python3.10/dist-packages/atari_py/atari_roms/berzerk.bin\n",
            "copying breakout.bin from /content/Atari-2600-VCS-ROM-Collection/ROMS/Breakout - Breakaway IV (Paddle) (1978) (Atari, Brad Stewart - Sears) (CX2622 - 6-99813, 49-75107) ~.bin to /usr/local/lib/python3.10/dist-packages/atari_py/atari_roms/breakout.bin\n",
            "copying enduro.bin from /content/Atari-2600-VCS-ROM-Collection/ROMS/Enduro (1983) (Activision, Larry Miller) (AX-026, AX-026-04) ~.bin to /usr/local/lib/python3.10/dist-packages/atari_py/atari_roms/enduro.bin\n",
            "copying donkey_kong.bin from /content/Atari-2600-VCS-ROM-Collection/ROMS/Donkey Kong (1982) (Coleco - Woodside Design Associates - Imaginative Systems Software, Garry Kitchen) (2451) ~.bin to /usr/local/lib/python3.10/dist-packages/atari_py/atari_roms/donkey_kong.bin\n",
            "copying asterix.bin from /content/Atari-2600-VCS-ROM-Collection/ROMS/Asterix (AKA Taz) (1984) (Atari, Jerome Domurat, Steve Woita) (CX2696).bin to /usr/local/lib/python3.10/dist-packages/atari_py/atari_roms/asterix.bin\n",
            "copying qbert.bin from /content/Atari-2600-VCS-ROM-Collection/ROMS/Q-bert (1983) (Parker Brothers - Western Technologies, Dave Hampton, Tom Sloper) (PB5360) ~.bin to /usr/local/lib/python3.10/dist-packages/atari_py/atari_roms/qbert.bin\n",
            "copying time_pilot.bin from /content/Atari-2600-VCS-ROM-Collection/ROMS/Time Pilot (1983) (Coleco - Woodside Design Associates, Harley H. Puthuff Jr.) (2663) ~.bin to /usr/local/lib/python3.10/dist-packages/atari_py/atari_roms/time_pilot.bin\n",
            "copying surround.bin from /content/Atari-2600-VCS-ROM-Collection/ROMS/Surround - Chase (Blockade) (1977) (Atari, Alan Miller - Sears) (CX2641 - 99807, 49-75105) ~.bin to /usr/local/lib/python3.10/dist-packages/atari_py/atari_roms/surround.bin\n",
            "copying kaboom.bin from /content/Atari-2600-VCS-ROM-Collection/ROMS/Kaboom! (Paddle) (1981) (Activision, Larry Kaplan, David Crane) (AG-010, CAG-010, AG-010-04) ~.bin to /usr/local/lib/python3.10/dist-packages/atari_py/atari_roms/kaboom.bin\n",
            "copying pacman.bin from /content/Atari-2600-VCS-ROM-Collection/ROMS/Pac-Man (1982) (Atari, Tod Frye) (CX2646) (PAL).bin to /usr/local/lib/python3.10/dist-packages/atari_py/atari_roms/pacman.bin\n",
            "copying pong.bin from /content/Atari-2600-VCS-ROM-Collection/ROMS/Video Olympics - Pong Sports (Paddle) (1977) (Atari, Joe Decuir - Sears) (CX2621 - 99806, 6-99806, 49-75104) ~.bin to /usr/local/lib/python3.10/dist-packages/atari_py/atari_roms/pong.bin\n",
            "copying robotank.bin from /content/Atari-2600-VCS-ROM-Collection/ROMS/Robot Tank (Robotank) (1983) (Activision, Alan Miller) (AZ-028, AG-028-04) ~.bin to /usr/local/lib/python3.10/dist-packages/atari_py/atari_roms/robotank.bin\n",
            "copying assault.bin from /content/Atari-2600-VCS-ROM-Collection/ROMS/Assault (AKA Sky Alien) (1983) (Bomb - Onbase) (CA281).bin to /usr/local/lib/python3.10/dist-packages/atari_py/atari_roms/assault.bin\n",
            "copying journey_escape.bin from /content/Atari-2600-VCS-ROM-Collection/ROMS/Journey Escape (1983) (Data Age, J. Ray Dettling) (112-006) ~.bin to /usr/local/lib/python3.10/dist-packages/atari_py/atari_roms/journey_escape.bin\n",
            "copying star_gunner.bin from /content/Atari-2600-VCS-ROM-Collection/ROMS/Stargunner (1983) (Telesys, Alex Leavens) (1005) ~.bin to /usr/local/lib/python3.10/dist-packages/atari_py/atari_roms/star_gunner.bin\n",
            "copying trondead.bin from /content/Atari-2600-VCS-ROM-Collection/ROMS/TRON - Deadly Discs (TRON Joystick) (1983) (M Network - INTV - APh Technological Consulting, Jeff Ronne, Brett Stutz) (MT5662) ~.bin to /usr/local/lib/python3.10/dist-packages/atari_py/atari_roms/trondead.bin\n",
            "copying wizard_of_wor.bin from /content/Atari-2600-VCS-ROM-Collection/ROMS/Wizard of Wor (1982) (CBS Electronics - Roklan, Joe Hellesen, Joe Wagner) (M8774, M8794) ~.bin to /usr/local/lib/python3.10/dist-packages/atari_py/atari_roms/wizard_of_wor.bin\n",
            "copying space_invaders.bin from /content/Atari-2600-VCS-ROM-Collection/ROMS/Space Invaders (1980) (Atari, Richard Maurer - Sears) (CX2632 - 49-75153) ~.bin to /usr/local/lib/python3.10/dist-packages/atari_py/atari_roms/space_invaders.bin\n",
            "copying defender.bin from /content/Atari-2600-VCS-ROM-Collection/ROMS/Defender (1982) (Atari, Robert C. Polaro, Alan J. Murphy - Sears) (CX2609 - 49-75186) ~.bin to /usr/local/lib/python3.10/dist-packages/atari_py/atari_roms/defender.bin\n",
            "copying phoenix.bin from /content/Atari-2600-VCS-ROM-Collection/ROMS/Phoenix (1983) (Atari - GCC, Michael Feinstein, Patricia Goodson, John Mracek) (CX2673) ~.bin to /usr/local/lib/python3.10/dist-packages/atari_py/atari_roms/phoenix.bin\n",
            "copying air_raid.bin from /content/Atari-2600-VCS-ROM-Collection/ROMS/Air Raid (1982) (Men-A-Vision) (PAL) ~.bin to /usr/local/lib/python3.10/dist-packages/atari_py/atari_roms/air_raid.bin\n",
            "copying laser_gates.bin from /content/Atari-2600-VCS-ROM-Collection/ROMS/Laser Gates (AKA Innerspace) (1983) (Imagic, Dan Oliver) (720118-2A, 13208, EIX-007-04I) (PAL).bin to /usr/local/lib/python3.10/dist-packages/atari_py/atari_roms/laser_gates.bin\n",
            "copying freeway.bin from /content/Atari-2600-VCS-ROM-Collection/ROMS/Freeway (1981) (Activision, David Crane) (AG-009, AG-009-04) ~.bin to /usr/local/lib/python3.10/dist-packages/atari_py/atari_roms/freeway.bin\n",
            "copying carnival.bin from /content/Atari-2600-VCS-ROM-Collection/ROMS/Carnival (1982) (Coleco - Woodside Design Associates, Steve 'Jessica Stevens' Kitchen) (2468) ~.bin to /usr/local/lib/python3.10/dist-packages/atari_py/atari_roms/carnival.bin\n",
            "copying koolaid.bin from /content/Atari-2600-VCS-ROM-Collection/ROMS/Kool-Aid Man (Kool Aid Pitcher Man) (1983) (M Network, Stephen Tatsumi, Jane Terjung - Kool Aid) (MT4648) ~.bin to /usr/local/lib/python3.10/dist-packages/atari_py/atari_roms/koolaid.bin\n",
            "copying ice_hockey.bin from /content/Atari-2600-VCS-ROM-Collection/ROMS/Ice Hockey - Le Hockey Sur Glace (1981) (Activision, Alan Miller) (AX-012, CAX-012, AX-012-04) ~.bin to /usr/local/lib/python3.10/dist-packages/atari_py/atari_roms/ice_hockey.bin\n",
            "copying pitfall.bin from /content/Atari-2600-VCS-ROM-Collection/ROMS/Pitfall! - Pitfall Harry's Jungle Adventure (Jungle Runner) (1982) (Activision, David Crane) (AX-018, AX-018-04) ~.bin to /usr/local/lib/python3.10/dist-packages/atari_py/atari_roms/pitfall.bin\n",
            "copying amidar.bin from /content/Atari-2600-VCS-ROM-Collection/ROMS/Amidar (1982) (Parker Brothers, Ed Temple) (PB5310) ~.bin to /usr/local/lib/python3.10/dist-packages/atari_py/atari_roms/amidar.bin\n",
            "copying sir_lancelot.bin from /content/Atari-2600-VCS-ROM-Collection/ROMS/Sir Lancelot (1983) (Xonox - K-Tel Software - Product Guild, Anthony R. Henderson) (99006, 6220) (PAL).bin to /usr/local/lib/python3.10/dist-packages/atari_py/atari_roms/sir_lancelot.bin\n",
            "copying yars_revenge.bin from /content/Atari-2600-VCS-ROM-Collection/ROMS/Yars' Revenge (Time Freeze) (1982) (Atari, Howard Scott Warshaw - Sears) (CX2655 - 49-75167) ~.bin to /usr/local/lib/python3.10/dist-packages/atari_py/atari_roms/yars_revenge.bin\n",
            "copying kangaroo.bin from /content/Atari-2600-VCS-ROM-Collection/ROMS/Kangaroo (1983) (Atari - GCC, Patricia Goodson, Josh Littlefield, Kevin Osborn) (CX2689) ~.bin to /usr/local/lib/python3.10/dist-packages/atari_py/atari_roms/kangaroo.bin\n",
            "copying pooyan.bin from /content/Atari-2600-VCS-ROM-Collection/ROMS/Pooyan (1983) (Konami) (RC 100-X 02) ~.bin to /usr/local/lib/python3.10/dist-packages/atari_py/atari_roms/pooyan.bin\n",
            "copying crazy_climber.bin from /content/Atari-2600-VCS-ROM-Collection/ROMS/Crazy Climber (1983) (Atari - Roklan, Joe Gaucher, Alex Leavens) (CX2683) ~.bin to /usr/local/lib/python3.10/dist-packages/atari_py/atari_roms/crazy_climber.bin\n",
            "copying beam_rider.bin from /content/Atari-2600-VCS-ROM-Collection/ROMS/Beamrider (1984) (Activision - Cheshire Engineering, David Rolfe, Larry Zwick) (AZ-037-04) ~.bin to /usr/local/lib/python3.10/dist-packages/atari_py/atari_roms/beam_rider.bin\n",
            "copying video_pinball.bin from /content/Atari-2600-VCS-ROM-Collection/ROMS/Pinball (AKA Video Pinball) (Zellers).bin to /usr/local/lib/python3.10/dist-packages/atari_py/atari_roms/video_pinball.bin\n",
            "copying frogger.bin from /content/Atari-2600-VCS-ROM-Collection/ROMS/Frogger (1982) (Parker Brothers, Ed English, David Lamkins) (PB5300) ~.bin to /usr/local/lib/python3.10/dist-packages/atari_py/atari_roms/frogger.bin\n",
            "copying alien.bin from /content/Atari-2600-VCS-ROM-Collection/ROMS/Alien (1982) (20th Century Fox Video Games, Douglas 'Dallas North' Neubauer) (11006) ~.bin to /usr/local/lib/python3.10/dist-packages/atari_py/atari_roms/alien.bin\n",
            "copying centipede.bin from /content/Atari-2600-VCS-ROM-Collection/ROMS/Centipede (1983) (Atari - GCC, Patricia Goodson, Josh Littlefield, Douglas B. Macrae) (CX2676) ~.bin to /usr/local/lib/python3.10/dist-packages/atari_py/atari_roms/centipede.bin\n",
            "copying venture.bin from /content/Atari-2600-VCS-ROM-Collection/ROMS/Venture (1982) (Coleco, Joseph Biel) (2457) ~.bin to /usr/local/lib/python3.10/dist-packages/atari_py/atari_roms/venture.bin\n",
            "copying tennis.bin from /content/Atari-2600-VCS-ROM-Collection/ROMS/Tennis - Le Tennis (1981) (Activision, Alan Miller) (AG-007, CAG-007) ~.bin to /usr/local/lib/python3.10/dist-packages/atari_py/atari_roms/tennis.bin\n",
            "copying riverraid.bin from /content/Atari-2600-VCS-ROM-Collection/ROMS/River Raid (1982) (Activision, Carol Shaw) (AX-020, AX-020-04) ~.bin to /usr/local/lib/python3.10/dist-packages/atari_py/atari_roms/riverraid.bin\n",
            "copying chopper_command.bin from /content/Atari-2600-VCS-ROM-Collection/ROMS/Chopper Command (1982) (Activision, Bob Whitehead) (AX-015, AX-015-04) ~.bin to /usr/local/lib/python3.10/dist-packages/atari_py/atari_roms/chopper_command.bin\n",
            "copying elevator_action.bin from /content/Atari-2600-VCS-ROM-Collection/ROMS/Elevator Action (1983) (Atari, Dan Hitchens, Dave Staugas) (CX26126) (Prototype) ~.bin to /usr/local/lib/python3.10/dist-packages/atari_py/atari_roms/elevator_action.bin\n",
            "copying kung_fu_master.bin from /content/Atari-2600-VCS-ROM-Collection/ROMS/Kung-Fu Master (1987) (Activision - Imagineering, Dan Kitchen, Garry Kitchen) (AG-039-04) ~.bin to /usr/local/lib/python3.10/dist-packages/atari_py/atari_roms/kung_fu_master.bin\n",
            "copying name_this_game.bin from /content/Atari-2600-VCS-ROM-Collection/ROMS/Name This Game (Guardians of Treasure, Octopussy) (1983) (U.S. Games Corporation - JWDA, Roger Booth, Sylvia Day, Ron Dubren, Todd Marshall, Robin McDaniel, Wes Trager, Henry Will IV) (VC1007) ~.bin to /usr/local/lib/python3.10/dist-packages/atari_py/atari_roms/name_this_game.bin\n",
            "copying asteroids.bin from /content/Atari-2600-VCS-ROM-Collection/ROMS/Asteroids (1981) (Atari, Brad Stewart - Sears) (CX2649 - 49-75163) [no copyright] ~.bin to /usr/local/lib/python3.10/dist-packages/atari_py/atari_roms/asteroids.bin\n",
            "copying bowling.bin from /content/Atari-2600-VCS-ROM-Collection/ROMS/Bowling (1979) (Atari, Larry Kaplan - Sears) (CX2628 - 6-99842, 49-75117) ~.bin to /usr/local/lib/python3.10/dist-packages/atari_py/atari_roms/bowling.bin\n",
            "copying up_n_down.bin from /content/Atari-2600-VCS-ROM-Collection/ROMS/Up 'n Down (1984) (SEGA - Beck-Tech, Steve Beck, Phat Ho) (009-01) ~.bin to /usr/local/lib/python3.10/dist-packages/atari_py/atari_roms/up_n_down.bin\n",
            "copying hero.bin from /content/Atari-2600-VCS-ROM-Collection/ROMS/H.E.R.O. (1984) (Activision, John Van Ryzin) (AZ-036-04) ~.bin to /usr/local/lib/python3.10/dist-packages/atari_py/atari_roms/hero.bin\n",
            "copying zaxxon.bin from /content/Atari-2600-VCS-ROM-Collection/ROMS/Zaxxon (1983) (Coleco) (2454) ~.bin to /usr/local/lib/python3.10/dist-packages/atari_py/atari_roms/zaxxon.bin\n",
            "copying king_kong.bin from /content/Atari-2600-VCS-ROM-Collection/ROMS/King Kong (1982) (Tigervision - Software Electronics Corporation, Karl T. Olinger - Teldec) (7-001 - 3.60001 VE) (PAL).bin to /usr/local/lib/python3.10/dist-packages/atari_py/atari_roms/king_kong.bin\n",
            "copying boxing.bin from /content/Atari-2600-VCS-ROM-Collection/ROMS/Boxing - La Boxe (1980) (Activision, Bob Whitehead) (AG-002, CAG-002, AG-002-04) ~.bin to /usr/local/lib/python3.10/dist-packages/atari_py/atari_roms/boxing.bin\n",
            "copying atlantis.bin from /content/Atari-2600-VCS-ROM-Collection/ROMS/Atlantis (Lost City of Atlantis) (1982) (Imagic, Dennis Koble) (720103-1A, 720103-1B, IA3203, IX-010-04) ~.bin to /usr/local/lib/python3.10/dist-packages/atari_py/atari_roms/atlantis.bin\n",
            "copying road_runner.bin from patched version of /content/Atari-2600-VCS-ROM-Collection/ROMS/Road Runner (1989) (Atari - Bobco, Robert C. Polaro) (CX2663) ~.bin to /usr/local/lib/python3.10/dist-packages/atari_py/atari_roms/road_runner.bin\n",
            "copying tutankham.bin from /content/Atari-2600-VCS-ROM-Collection/ROMS/Tutankham (1983) (Parker Brothers, Dave Engman, Dawn Stockbridge) (PB5340) ~.bin to /usr/local/lib/python3.10/dist-packages/atari_py/atari_roms/tutankham.bin\n"
          ]
        }
      ]
    },
    {
      "cell_type": "code",
      "source": [
        "import gym\n",
        "import random\n",
        "import atari_py\n",
        "import numpy as np\n",
        "import random\n",
        "import keras\n",
        "from keras.optimizers import Adam\n",
        "from keras.initializers import RandomNormal\n",
        "from keras.models import Model\n",
        "from keras.layers import *\n",
        "from collections import deque\n",
        "print(atari_py.list_games())"
      ],
      "metadata": {
        "colab": {
          "base_uri": "https://localhost:8080/"
        },
        "id": "zG_s3QTuZbOk",
        "outputId": "e219f94c-237c-471c-968e-069380b503e8"
      },
      "execution_count": 6,
      "outputs": [
        {
          "output_type": "stream",
          "name": "stderr",
          "text": [
            "/usr/local/lib/python3.10/dist-packages/ale_py/roms/__init__.py:89: DeprecationWarning: Automatic importing of atari-py roms won't be supported in future releases of ale-py. Please migrate over to using `ale-import-roms` OR an ALE-supported ROM package. To make this warning disappear you can run `ale-import-roms --import-from-pkg atari_py.atari_roms`.For more information see: https://github.com/mgbellemare/Arcade-Learning-Environment#rom-management\n",
            "  ROMS = resolve_roms()\n",
            "/usr/local/lib/python3.10/dist-packages/tensorflow/lite/python/util.py:51: DeprecationWarning: jax.xla_computation is deprecated. Please use the AOT APIs; see https://jax.readthedocs.io/en/latest/aot.html. For example, replace xla_computation(f)(*xs) with jit(f).lower(*xs).compiler_ir('hlo'). See CHANGELOG.md for 0.4.30 for more examples.\n",
            "  from jax import xla_computation as _xla_computation\n"
          ]
        },
        {
          "output_type": "stream",
          "name": "stdout",
          "text": [
            "['tetris', 'galaxian', 'seaquest', 'frogger', 'carnival', 'asterix', 'frostbite', 'solaris', 'journey_escape', 'gopher', 'asteroids', 'ms_pacman', 'laser_gates', 'pacman', 'space_invaders', 'battle_zone', 'yars_revenge', 'boxing', 'road_runner', 'wizard_of_wor', 'time_pilot', 'jamesbond', 'freeway', 'private_eye', 'berzerk', 'pooyan', 'sir_lancelot', 'tutankham', 'pitfall', 'assault', 'mr_do', 'double_dunk', 'surround', 'lost_luggage', 'hero', 'crazy_climber', 'krull', 'atlantis', 'keystone_kapers', 'bank_heist', 'skiing', 'phoenix', 'venture', 'ice_hockey', 'robotank', 'fishing_derby', 'demon_attack', 'elevator_action', 'bowling', 'zaxxon', 'gravitar', 'kung_fu_master', 'amidar', 'kangaroo', 'star_gunner', 'trondead', 'name_this_game', 'adventure', 'kaboom', 'beam_rider', 'king_kong', 'video_pinball', 'enduro', 'up_n_down', 'breakout', 'pong', 'centipede', 'tennis', 'koolaid', 'air_raid', 'defender', 'montezuma_revenge', 'riverraid', 'alien', 'chopper_command', 'qbert', 'donkey_kong']\n"
          ]
        }
      ]
    },
    {
      "cell_type": "code",
      "source": [
        "env = gym.make('SpaceInvaders-v0')\n",
        "height, width, channels = env.observation_space.shape\n",
        "actions = env.action_space.n\n",
        "\n",
        "print(f'Game Frame Dimensions: [{height},{width},{channels}]')\n",
        "print(f'Number of Actions in Game: {actions}')\n",
        "print(f'Details of available actions in Game: {env.unwrapped.get_action_meanings()}')"
      ],
      "metadata": {
        "colab": {
          "base_uri": "https://localhost:8080/"
        },
        "id": "Wuw6kTaPcJ28",
        "outputId": "3c178175-8351-48fc-99c1-779d496d3776"
      },
      "execution_count": 7,
      "outputs": [
        {
          "output_type": "stream",
          "name": "stdout",
          "text": [
            "Game Frame Dimensions: [210,160,3]\n",
            "Number of Actions in Game: 6\n",
            "Details of available actions in Game: ['NOOP', 'FIRE', 'RIGHT', 'LEFT', 'RIGHTFIRE', 'LEFTFIRE']\n"
          ]
        },
        {
          "output_type": "stream",
          "name": "stderr",
          "text": [
            "/usr/local/lib/python3.10/dist-packages/ipykernel/ipkernel.py:283: DeprecationWarning: `should_run_async` will not call `transform_cell` automatically in the future. Please pass the result to `transformed_cell` argument and any exception that happen during thetransform in `preprocessing_exc_tuple` in IPython 7.17 and above.\n",
            "  and should_run_async(code)\n",
            "/usr/local/lib/python3.10/dist-packages/gym/envs/registration.py:593: UserWarning: \u001b[33mWARN: The environment SpaceInvaders-v0 is out of date. You should consider upgrading to version `v4`.\u001b[0m\n",
            "  logger.warn(\n",
            "/usr/local/lib/python3.10/dist-packages/gym/core.py:317: DeprecationWarning: \u001b[33mWARN: Initializing wrapper in old step API which returns one bool instead of two. It is recommended to set `new_step_api=True` to use new step API. This will be the default behaviour in future.\u001b[0m\n",
            "  deprecation(\n",
            "/usr/local/lib/python3.10/dist-packages/gym/wrappers/step_api_compatibility.py:39: DeprecationWarning: \u001b[33mWARN: Initializing environment in old step API which returns one bool instead of two. It is recommended to set `new_step_api=True` to use new step API. This will be the default behaviour in future.\u001b[0m\n",
            "  deprecation(\n"
          ]
        }
      ]
    },
    {
      "cell_type": "code",
      "source": [
        "episodes = 5\n",
        "\n",
        "for episode in range(episodes):\n",
        "    score = 0\n",
        "    done = False\n",
        "    state = env.reset()\n",
        "    while not done:\n",
        "        frame = env.render(mode='rgb_array')\n",
        "        action_to_take = random.choice([0,1,2,3,4,5])\n",
        "        new_state, reward, done, info = env.step(action_to_take)\n",
        "        score+=reward\n",
        "    print(f'Episode {episode} -> Score {score}')\n",
        "\n",
        "env.reset()\n",
        "env.close()"
      ],
      "metadata": {
        "colab": {
          "base_uri": "https://localhost:8080/"
        },
        "id": "IMGJCNeHcT1j",
        "outputId": "cedc8880-6504-4049-8c1c-9abbf92ae4b6"
      },
      "execution_count": 8,
      "outputs": [
        {
          "output_type": "stream",
          "name": "stderr",
          "text": [
            "/usr/local/lib/python3.10/dist-packages/gym/core.py:43: DeprecationWarning: \u001b[33mWARN: The argument mode in render method is deprecated; use render_mode during environment initialization instead.\n",
            "See here for more information: https://www.gymlibrary.ml/content/api/\u001b[0m\n",
            "  deprecation(\n",
            "/usr/local/lib/python3.10/dist-packages/gym/utils/passive_env_checker.py:297: UserWarning: \u001b[33mWARN: No render fps was declared in the environment (env.metadata['render_fps'] is None or not defined), rendering may occur at inconsistent fps.\u001b[0m\n",
            "  logger.warn(\n",
            "/usr/local/lib/python3.10/dist-packages/gym/utils/passive_env_checker.py:227: DeprecationWarning: \u001b[33mWARN: Core environment is written in old step API which returns one bool instead of two. It is recommended to rewrite the environment with new step API. \u001b[0m\n",
            "  logger.deprecation(\n",
            "/usr/local/lib/python3.10/dist-packages/gym/utils/passive_env_checker.py:233: DeprecationWarning: `np.bool8` is a deprecated alias for `np.bool_`.  (Deprecated NumPy 1.24)\n",
            "  if not isinstance(done, (bool, np.bool8)):\n"
          ]
        },
        {
          "output_type": "stream",
          "name": "stdout",
          "text": [
            "Episode 0 -> Score 180.0\n",
            "Episode 1 -> Score 140.0\n",
            "Episode 2 -> Score 90.0\n",
            "Episode 3 -> Score 110.0\n",
            "Episode 4 -> Score 60.0\n"
          ]
        }
      ]
    },
    {
      "cell_type": "code",
      "source": [
        "def QNet(height, width, channels, actions):\n",
        "    init = RandomNormal(stddev=0.02)\n",
        "\n",
        "    in_src_image = Input(shape=(height, width, channels))\n",
        "\n",
        "    d = Conv2D(8, (4, 4), strides=(2, 2), padding='same', kernel_initializer=init)(in_src_image)\n",
        "    d = LeakyReLU(alpha=0.2)(d)\n",
        "\n",
        "    d = Conv2D(16, (4, 4), strides=(2, 2), padding='same', kernel_initializer=init)(d)\n",
        "    d = BatchNormalization()(d)\n",
        "    d = LeakyReLU(alpha=0.2)(d)\n",
        "\n",
        "    d = Conv2D(32, (4, 4), strides=(2, 2), padding='same', kernel_initializer=init)(d)\n",
        "    d = BatchNormalization()(d)\n",
        "    d = LeakyReLU(alpha=0.2)(d)\n",
        "\n",
        "    d = Conv2D(64, (4, 4), strides=(2, 2), padding='same', kernel_initializer=init)(d)\n",
        "    d = BatchNormalization()(d)\n",
        "    d = LeakyReLU(alpha=0.2)(d)\n",
        "\n",
        "    d = Conv2D(64, (4, 4), strides=(2, 2), padding='same', kernel_initializer=init)(d)\n",
        "    d = BatchNormalization()(d)\n",
        "    d = LeakyReLU(alpha=0.2)(d)\n",
        "\n",
        "    d = Flatten()(d)\n",
        "    d = Dense(512, activation='relu')(d)\n",
        "    d = Dense(128, activation='relu')(d)\n",
        "\n",
        "    out = Dense(actions, activation='linear')(d)\n",
        "\n",
        "    model = Model(in_src_image, out)\n",
        "\n",
        "    opt = Adam(learning_rate=0.0002)\n",
        "    model.compile(loss='mse', optimizer=opt)\n",
        "\n",
        "    return model\n",
        "\n",
        "q_net = QNet(height, width, channels, actions)\n",
        "q_net.summary()\n"
      ],
      "metadata": {
        "colab": {
          "base_uri": "https://localhost:8080/"
        },
        "id": "H0WHztU3dkzB",
        "outputId": "28f3f4f1-8e9d-4447-a1ec-18cc3299b6d4"
      },
      "execution_count": 9,
      "outputs": [
        {
          "output_type": "stream",
          "name": "stdout",
          "text": [
            "Model: \"model\"\n",
            "_________________________________________________________________\n",
            " Layer (type)                Output Shape              Param #   \n",
            "=================================================================\n",
            " input_1 (InputLayer)        [(None, 210, 160, 3)]     0         \n",
            "                                                                 \n",
            " conv2d (Conv2D)             (None, 105, 80, 8)        392       \n",
            "                                                                 \n",
            " leaky_re_lu (LeakyReLU)     (None, 105, 80, 8)        0         \n",
            "                                                                 \n",
            " conv2d_1 (Conv2D)           (None, 53, 40, 16)        2064      \n",
            "                                                                 \n",
            " batch_normalization (Batch  (None, 53, 40, 16)        64        \n",
            " Normalization)                                                  \n",
            "                                                                 \n",
            " leaky_re_lu_1 (LeakyReLU)   (None, 53, 40, 16)        0         \n",
            "                                                                 \n",
            " conv2d_2 (Conv2D)           (None, 27, 20, 32)        8224      \n",
            "                                                                 \n",
            " batch_normalization_1 (Bat  (None, 27, 20, 32)        128       \n",
            " chNormalization)                                                \n",
            "                                                                 \n",
            " leaky_re_lu_2 (LeakyReLU)   (None, 27, 20, 32)        0         \n",
            "                                                                 \n",
            " conv2d_3 (Conv2D)           (None, 14, 10, 64)        32832     \n",
            "                                                                 \n",
            " batch_normalization_2 (Bat  (None, 14, 10, 64)        256       \n",
            " chNormalization)                                                \n",
            "                                                                 \n",
            " leaky_re_lu_3 (LeakyReLU)   (None, 14, 10, 64)        0         \n",
            "                                                                 \n"
          ]
        },
        {
          "output_type": "stream",
          "name": "stderr",
          "text": [
            "/usr/local/lib/python3.10/dist-packages/keras/src/initializers/initializers.py:120: UserWarning: The initializer RandomNormal is unseeded and being called multiple times, which will return identical values each time (even if the initializer is unseeded). Please update your code to provide a seed to the initializer, or avoid using the same initializer instance more than once.\n",
            "  warnings.warn(\n"
          ]
        },
        {
          "output_type": "stream",
          "name": "stdout",
          "text": [
            " conv2d_4 (Conv2D)           (None, 7, 5, 64)          65600     \n",
            "                                                                 \n",
            " batch_normalization_3 (Bat  (None, 7, 5, 64)          256       \n",
            " chNormalization)                                                \n",
            "                                                                 \n",
            " leaky_re_lu_4 (LeakyReLU)   (None, 7, 5, 64)          0         \n",
            "                                                                 \n",
            " flatten (Flatten)           (None, 2240)              0         \n",
            "                                                                 \n",
            " dense (Dense)               (None, 512)               1147392   \n",
            "                                                                 \n",
            " dense_1 (Dense)             (None, 128)               65664     \n",
            "                                                                 \n",
            " dense_2 (Dense)             (None, 6)                 774       \n",
            "                                                                 \n",
            "=================================================================\n",
            "Total params: 1323646 (5.05 MB)\n",
            "Trainable params: 1323294 (5.05 MB)\n",
            "Non-trainable params: 352 (1.38 KB)\n",
            "_________________________________________________________________\n"
          ]
        }
      ]
    },
    {
      "cell_type": "code",
      "source": [
        "class DDQNAgent:\n",
        "    def __init__(self, state_shape, action_size, model_fn, gamma=0.99, learning_rate=0.0001,\n",
        "                 epsilon_start=1.0, epsilon_min=0.1, epsilon_decay=0.995, replay_buffer_size=2000, batch_size=64):\n",
        "        self.state_shape = state_shape\n",
        "        self.action_size = action_size\n",
        "        self.gamma = gamma\n",
        "        self.learning_rate = learning_rate\n",
        "\n",
        "        self.epsilon = epsilon_start\n",
        "        self.epsilon_min = epsilon_min\n",
        "        self.epsilon_decay = epsilon_decay\n",
        "\n",
        "        self.replay_buffer = deque(maxlen=replay_buffer_size)\n",
        "        self.batch_size = batch_size\n",
        "\n",
        "        self.model = model_fn(*state_shape, action_size)\n",
        "        self.target_model = model_fn(*state_shape, action_size)\n",
        "        self.update_target_model()\n",
        "\n",
        "    def update_target_model(self):\n",
        "        self.target_model.set_weights(self.model.get_weights())\n",
        "\n",
        "    def act(self, state):\n",
        "        if np.random.rand() <= self.epsilon:\n",
        "            return random.randrange(self.action_size)\n",
        "        q_values = self.model.predict(np.expand_dims(state, axis=0), verbose=0)\n",
        "        return np.argmax(q_values[0])\n",
        "\n",
        "    def store_experience(self, state, action, reward, next_state, done):\n",
        "        self.replay_buffer.append((state, action, reward, next_state, done))\n",
        "\n",
        "    def train(self):\n",
        "        if len(self.replay_buffer) < self.batch_size:\n",
        "            return\n",
        "\n",
        "        minibatch = random.sample(self.replay_buffer, self.batch_size)\n",
        "        states, actions, rewards, next_states, dones = zip(*minibatch)\n",
        "\n",
        "        states = np.array(states)\n",
        "        next_states = np.array(next_states)\n",
        "\n",
        "        q_next_online = self.model.predict(next_states, verbose=0)\n",
        "        q_next_target = self.target_model.predict(next_states, verbose=0)\n",
        "\n",
        "        q_targets = self.model.predict(states, verbose=0)\n",
        "        for i in range(self.batch_size):\n",
        "            if dones[i]:\n",
        "                q_targets[i][actions[i]] = rewards[i]\n",
        "            else:\n",
        "                best_action = np.argmax(q_next_online[i])\n",
        "                q_targets[i][actions[i]] = rewards[i] + self.gamma * q_next_target[i][best_action]\n",
        "\n",
        "        self.model.fit(states, q_targets, epochs=1, verbose=0, batch_size=self.batch_size)\n",
        "\n",
        "        if self.epsilon > self.epsilon_min:\n",
        "            self.epsilon *= self.epsilon_decay"
      ],
      "metadata": {
        "id": "SSZDqFaWl9ma"
      },
      "execution_count": 10,
      "outputs": []
    },
    {
      "cell_type": "code",
      "source": [
        "state_shape = (height, width, channels)\n",
        "agent = DDQNAgent(state_shape=state_shape, action_size=actions, model_fn=QNet)\n",
        "\n",
        "episodes = 3\n",
        "sync_target_model_freq = 10"
      ],
      "metadata": {
        "id": "d-xbJB3ey4sB"
      },
      "execution_count": 11,
      "outputs": []
    },
    {
      "cell_type": "code",
      "source": [
        "for episode in range(1, episodes + 1):\n",
        "    state = env.reset()\n",
        "    score = 0\n",
        "    done = False\n",
        "\n",
        "    while not done:\n",
        "        action = agent.act(state)\n",
        "\n",
        "        next_state, reward, done, _ = env.step(action)\n",
        "        score += reward\n",
        "\n",
        "        agent.store_experience(state, action, reward, next_state, done)\n",
        "\n",
        "        agent.train()\n",
        "\n",
        "        state = next_state\n",
        "\n",
        "    if episode % sync_target_model_freq == 0:\n",
        "        agent.update_target_model()\n",
        "\n",
        "    print(f\"Episode {episode}/{episodes} | Score: {score} | Epsilon: {agent.epsilon:.4f}\")\n",
        "\n",
        "env.close()"
      ],
      "metadata": {
        "colab": {
          "base_uri": "https://localhost:8080/"
        },
        "id": "CZmU6A7Xl-QN",
        "outputId": "4eb040bc-0dfa-4a3f-d96d-90a48fcbf807"
      },
      "execution_count": 12,
      "outputs": [
        {
          "output_type": "stream",
          "name": "stdout",
          "text": [
            "Episode 1/3 | Score: 235.0 | Epsilon: 0.0997\n",
            "Episode 2/3 | Score: 210.0 | Epsilon: 0.0997\n",
            "Episode 3/3 | Score: 240.0 | Epsilon: 0.0997\n"
          ]
        }
      ]
    }
  ]
}