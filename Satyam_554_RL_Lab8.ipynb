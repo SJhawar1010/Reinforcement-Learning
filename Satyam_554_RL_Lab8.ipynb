{
  "nbformat": 4,
  "nbformat_minor": 0,
  "metadata": {
    "colab": {
      "provenance": [],
      "include_colab_link": true
    },
    "kernelspec": {
      "name": "python3",
      "display_name": "Python 3"
    },
    "language_info": {
      "name": "python"
    }
  },
  "cells": [
    {
      "cell_type": "markdown",
      "metadata": {
        "id": "view-in-github",
        "colab_type": "text"
      },
      "source": [
        "<a href=\"https://colab.research.google.com/github/SJhawar1010/Reinforcement-Learning/blob/main/Satyam_554_RL_Lab8.ipynb\" target=\"_parent\"><img src=\"https://colab.research.google.com/assets/colab-badge.svg\" alt=\"Open In Colab\"/></a>"
      ]
    },
    {
      "cell_type": "code",
      "execution_count": 1,
      "metadata": {
        "id": "ROboHGPw_ADG"
      },
      "outputs": [],
      "source": [
        "import numpy as np"
      ]
    },
    {
      "cell_type": "code",
      "source": [
        "alpha = 0.1\n",
        "gamma = 0.5\n",
        "episodes = 50"
      ],
      "metadata": {
        "id": "YL3-KSI6LegT"
      },
      "execution_count": 2,
      "outputs": []
    },
    {
      "cell_type": "code",
      "source": [
        "V = np.zeros(5)"
      ],
      "metadata": {
        "id": "z-w5lJi0OP_1"
      },
      "execution_count": 3,
      "outputs": []
    },
    {
      "cell_type": "code",
      "source": [
        "rewards = [1, 0, 1, 0, 1]"
      ],
      "metadata": {
        "id": "_X-DEztBORX7"
      },
      "execution_count": 4,
      "outputs": []
    },
    {
      "cell_type": "code",
      "source": [
        "def take_action(state):\n",
        "    action = np.random.choice([-1, 1])\n",
        "    next_state = state + action\n",
        "\n",
        "    next_state = max(0, min(4, next_state))\n",
        "    return next_state"
      ],
      "metadata": {
        "id": "mOtOHfxzOSjA"
      },
      "execution_count": 5,
      "outputs": []
    },
    {
      "cell_type": "code",
      "source": [
        "for episode in range(episodes):\n",
        "    state = 0\n",
        "    while state != 4:\n",
        "        next_state = take_action(state)\n",
        "        reward = rewards[next_state]\n",
        "\n",
        "        V[state] += alpha * (reward + gamma * V[next_state] - V[state])\n",
        "\n",
        "        state = next_state"
      ],
      "metadata": {
        "id": "ZLezzS0qOT4t"
      },
      "execution_count": 6,
      "outputs": []
    },
    {
      "cell_type": "code",
      "source": [
        "print(\"Learned State Values (V):\")\n",
        "for i, v in enumerate(V, start=1):\n",
        "    print(f\"State {i}: {v:.2f}\")"
      ],
      "metadata": {
        "colab": {
          "base_uri": "https://localhost:8080/"
        },
        "id": "4f68aZ1GOVl0",
        "outputId": "6c93e964-b7df-413b-8f09-247e0068ee17"
      },
      "execution_count": 7,
      "outputs": [
        {
          "output_type": "stream",
          "name": "stdout",
          "text": [
            "Learned State Values (V):\n",
            "State 1: 1.18\n",
            "State 2: 1.44\n",
            "State 3: 0.65\n",
            "State 4: 1.08\n",
            "State 5: 0.00\n"
          ]
        }
      ]
    },
    {
      "cell_type": "code",
      "source": [],
      "metadata": {
        "id": "bfnIjpCGOWGW"
      },
      "execution_count": null,
      "outputs": []
    }
  ]
}