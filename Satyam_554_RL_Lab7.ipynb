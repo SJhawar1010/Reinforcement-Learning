{
  "nbformat": 4,
  "nbformat_minor": 0,
  "metadata": {
    "colab": {
      "provenance": [],
      "include_colab_link": true
    },
    "kernelspec": {
      "name": "python3",
      "display_name": "Python 3"
    },
    "language_info": {
      "name": "python"
    }
  },
  "cells": [
    {
      "cell_type": "markdown",
      "metadata": {
        "id": "view-in-github",
        "colab_type": "text"
      },
      "source": [
        "<a href=\"https://colab.research.google.com/github/SJhawar1010/Reinforcement-Learning/blob/main/Satyam_554_RL_Lab7.ipynb\" target=\"_parent\"><img src=\"https://colab.research.google.com/assets/colab-badge.svg\" alt=\"Open In Colab\"/></a>"
      ]
    },
    {
      "cell_type": "code",
      "execution_count": 1,
      "metadata": {
        "id": "PPwkOkZW-LS6"
      },
      "outputs": [],
      "source": [
        "import numpy as np"
      ]
    },
    {
      "cell_type": "code",
      "source": [
        "size = 5\n",
        "g = 0.8\n",
        "a = 0.1"
      ],
      "metadata": {
        "id": "ivG5iDSg-gyg"
      },
      "execution_count": 2,
      "outputs": []
    },
    {
      "cell_type": "code",
      "source": [
        "V = np.zeros((size, size))\n",
        "\n",
        "rewards = np.zeros((size, size))\n",
        "rewards[3, 3] = 1\n",
        "\n",
        "actions = {'up': (-1, 0), 'down': (1, 0), 'left': (0, -1), 'right': (0, 1)}\n"
      ],
      "metadata": {
        "id": "_Jm1m3TtO_2y"
      },
      "execution_count": 3,
      "outputs": []
    },
    {
      "cell_type": "code",
      "source": [
        "def is_valid_move(x, y):\n",
        "    return 0 <= x < size and 0 <= y < size"
      ],
      "metadata": {
        "id": "RNAQrd0CPGDJ"
      },
      "execution_count": 4,
      "outputs": []
    },
    {
      "cell_type": "code",
      "source": [
        "def simulate_episode():\n",
        "    state = (np.random.randint(0, size), np.random.randint(0, size))\n",
        "    while state == (3, 3):\n",
        "        state = (np.random.randint(0, size), np.random.randint(0, size))\n",
        "\n",
        "    steps = 0\n",
        "    while state != (3, 3):\n",
        "        steps += 1\n",
        "        x, y = state\n",
        "\n",
        "        action = np.random.choice(list(actions.keys()))\n",
        "        dx, dy = actions[action]\n",
        "        next_state = (x + dx, y + dy)\n",
        "\n",
        "        if not is_valid_move(next_state[0], next_state[1]):\n",
        "            next_state = state\n",
        "\n",
        "        reward = rewards[next_state]\n",
        "        V[x, y] += a * (reward + g * V[next_state] - V[x, y])\n",
        "\n",
        "        state = next_state\n",
        "\n",
        "    print(f\"Episode ended in {steps} steps\")"
      ],
      "metadata": {
        "id": "1Pusb0AtPHfM"
      },
      "execution_count": 5,
      "outputs": []
    },
    {
      "cell_type": "code",
      "source": [
        "episodes = 50\n",
        "for episode in range(episodes):\n",
        "    simulate_episode()"
      ],
      "metadata": {
        "colab": {
          "base_uri": "https://localhost:8080/"
        },
        "id": "PDyyYwRvPJ9B",
        "outputId": "f8b365d0-dfa8-4435-a4a2-9a5c30b338cb"
      },
      "execution_count": 6,
      "outputs": [
        {
          "output_type": "stream",
          "name": "stdout",
          "text": [
            "Episode ended in 46 steps\n",
            "Episode ended in 58 steps\n",
            "Episode ended in 160 steps\n",
            "Episode ended in 34 steps\n",
            "Episode ended in 1 steps\n",
            "Episode ended in 8 steps\n",
            "Episode ended in 12 steps\n",
            "Episode ended in 114 steps\n",
            "Episode ended in 82 steps\n",
            "Episode ended in 35 steps\n",
            "Episode ended in 38 steps\n",
            "Episode ended in 22 steps\n",
            "Episode ended in 38 steps\n",
            "Episode ended in 4 steps\n",
            "Episode ended in 53 steps\n",
            "Episode ended in 10 steps\n",
            "Episode ended in 103 steps\n",
            "Episode ended in 40 steps\n",
            "Episode ended in 26 steps\n",
            "Episode ended in 151 steps\n",
            "Episode ended in 157 steps\n",
            "Episode ended in 75 steps\n",
            "Episode ended in 23 steps\n",
            "Episode ended in 37 steps\n",
            "Episode ended in 28 steps\n",
            "Episode ended in 91 steps\n",
            "Episode ended in 107 steps\n",
            "Episode ended in 32 steps\n",
            "Episode ended in 70 steps\n",
            "Episode ended in 41 steps\n",
            "Episode ended in 10 steps\n",
            "Episode ended in 34 steps\n",
            "Episode ended in 92 steps\n",
            "Episode ended in 52 steps\n",
            "Episode ended in 2 steps\n",
            "Episode ended in 41 steps\n",
            "Episode ended in 7 steps\n",
            "Episode ended in 41 steps\n",
            "Episode ended in 58 steps\n",
            "Episode ended in 31 steps\n",
            "Episode ended in 12 steps\n",
            "Episode ended in 75 steps\n",
            "Episode ended in 139 steps\n",
            "Episode ended in 92 steps\n",
            "Episode ended in 59 steps\n",
            "Episode ended in 129 steps\n",
            "Episode ended in 8 steps\n",
            "Episode ended in 4 steps\n",
            "Episode ended in 23 steps\n",
            "Episode ended in 3 steps\n"
          ]
        }
      ]
    },
    {
      "cell_type": "code",
      "source": [
        "print(\"Learned State-Value Function:\")\n",
        "print(V)"
      ],
      "metadata": {
        "colab": {
          "base_uri": "https://localhost:8080/"
        },
        "id": "fYIWiNC8PLkM",
        "outputId": "ee15ebd8-73fb-4cae-ced6-d579173146fb"
      },
      "execution_count": 7,
      "outputs": [
        {
          "output_type": "stream",
          "name": "stdout",
          "text": [
            "Learned State-Value Function:\n",
            "[[0.00728817 0.01325942 0.02815213 0.03185166 0.02958188]\n",
            " [0.01633444 0.02986194 0.07133358 0.08553842 0.07406307]\n",
            " [0.02070572 0.03562682 0.15313382 0.46174367 0.16693124]\n",
            " [0.02014066 0.08396127 0.33799038 0.         0.36145337]\n",
            " [0.02196649 0.03314145 0.10938585 0.14864739 0.13096289]]\n"
          ]
        }
      ]
    },
    {
      "cell_type": "code",
      "source": [],
      "metadata": {
        "id": "--gSd7YqPMMH"
      },
      "execution_count": null,
      "outputs": []
    }
  ]
}